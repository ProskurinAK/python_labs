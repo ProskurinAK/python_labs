{
 "cells": [
  {
   "cell_type": "markdown",
   "metadata": {},
   "source": [
    "                                                 Московский Авиационный Институт  \n",
    "                                          (Национальный Исследовательский Университет)\n",
    "                                          \n",
    "Кафедра: 806 «Вычислительная математика и программирование»  \n",
    "Институт: «Информационные технологии и прикладная математика»  \n",
    "Дисциплина: «Разработка ПО для высокопроизводительных систем»  \n",
    "\n",
    "<br/><br/>\n",
    "<br/><br/>\n",
    "<br/><br/>\n",
    "<br/><br/>\n",
    "\n",
    "                                                 Лабораторная работа №5.  \n",
    "                                                          Тема:  \n",
    "                                                        «pandas»\n",
    "                                                         \n",
    "                                                         \n",
    "                                                                                                       Группа: М8О – 103М-20\n",
    "                                                                                        Студент: Проскурин Андрей Кириллович\n",
    "                                                                                Преподаватель: Поповкин Александр Викторович\n",
    "<br/><br/>\n",
    "<br/><br/>\n",
    "<br/><br/>\n",
    "<br/><br/>\n",
    "\n",
    "                                                           Москва  \n",
    "                                                            2020"
   ]
  },
  {
   "cell_type": "code",
   "execution_count": 2,
   "metadata": {},
   "outputs": [],
   "source": [
    "import pandas as pd\n",
    "from pandas import Series, DataFrame\n",
    "import numpy as np\n",
    "from dateutil.parser import parse\n",
    "from collections import Counter\n",
    "import re"
   ]
  },
  {
   "cell_type": "markdown",
   "metadata": {},
   "source": [
    "**1)** Получить от объекта Series показатели описательной статистики"
   ]
  },
  {
   "cell_type": "code",
   "execution_count": 85,
   "metadata": {},
   "outputs": [
    {
     "name": "stdout",
     "output_type": "stream",
     "text": [
      "count    25.000000\n",
      "mean      9.182460\n",
      "std       4.782765\n",
      "min       0.433599\n",
      "25%       7.188562\n",
      "50%       8.829315\n",
      "75%      12.483571\n",
      "max      17.896064\n",
      "dtype: float64\n"
     ]
    }
   ],
   "source": [
    "state = np.random.RandomState(42)\n",
    " \n",
    "s = pd.Series(state.normal(10, 5, 25))\n",
    "pkz = s.describe()\n",
    "print(pkz)"
   ]
  },
  {
   "cell_type": "markdown",
   "metadata": {},
   "source": [
    "**2)** Узнать частоту уникальных элементов объекта Series (гистограмма)"
   ]
  },
  {
   "cell_type": "code",
   "execution_count": 86,
   "metadata": {},
   "outputs": [
    {
     "name": "stdout",
     "output_type": "stream",
     "text": [
      "g    5\n",
      "i    4\n",
      "b    3\n",
      "h    3\n",
      "d    3\n",
      "k    3\n",
      "f    3\n",
      "e    3\n",
      "a    2\n",
      "c    1\n",
      "dtype: int64\n"
     ]
    }
   ],
   "source": [
    "data = 'abcdefghik'\n",
    "len_series = 30\n",
    "s = pd.Series(np.take(list(data), np.random.randint(len(data), size=len_series)))\n",
    "\n",
    "ans = s.value_counts()\n",
    "\n",
    "print(ans)"
   ]
  },
  {
   "cell_type": "markdown",
   "metadata": {},
   "source": [
    "**3)** Заменить все элементы объекта Series на \"Other\", кроме двух наиболее часто встречающихся"
   ]
  },
  {
   "cell_type": "code",
   "execution_count": 10,
   "metadata": {},
   "outputs": [
    {
     "name": "stdout",
     "output_type": "stream",
     "text": [
      "0        3\n",
      "1    Other\n",
      "2        3\n",
      "3        4\n",
      "4        3\n",
      "5        4\n",
      "6        4\n",
      "7    Other\n",
      "8        3\n",
      "9    Other\n",
      "dtype: object\n"
     ]
    }
   ],
   "source": [
    "s = pd.Series(state.randint(low=1, high=5, size=[10]))\n",
    "s[~s.isin(s.value_counts().index[:2])] = 'Other'\n",
    "print(s)"
   ]
  },
  {
   "cell_type": "markdown",
   "metadata": {},
   "source": [
    "**4)** Создать объект Series в индексах дата каждый день 2019 года, в значениях случайное значение"
   ]
  },
  {
   "cell_type": "code",
   "execution_count": 3,
   "metadata": {},
   "outputs": [
    {
     "name": "stdout",
     "output_type": "stream",
     "text": [
      "2019-01-01    0.744672\n",
      "2019-01-02    0.885285\n",
      "2019-01-03    0.648527\n",
      "2019-01-04    0.848804\n",
      "2019-01-05    0.604969\n",
      "                ...   \n",
      "2019-12-27    0.708411\n",
      "2019-12-28    0.494964\n",
      "2019-12-29    0.413028\n",
      "2019-12-30    0.607322\n",
      "2019-12-31    0.122484\n",
      "Freq: D, Length: 365, dtype: float64\n"
     ]
    }
   ],
   "source": [
    "dti = pd.date_range(start='2019-01-01', end='2019-12-31', freq='D') \n",
    "s = pd.Series(np.random.rand(len(dti)), index=dti)\n",
    "print(s)"
   ]
  },
  {
   "cell_type": "markdown",
   "metadata": {},
   "source": [
    "**5)** Найти сумму всех вторников"
   ]
  },
  {
   "cell_type": "code",
   "execution_count": 4,
   "metadata": {},
   "outputs": [
    {
     "name": "stdout",
     "output_type": "stream",
     "text": [
      "Сумма всех \"вторников\" 0.0\n"
     ]
    }
   ],
   "source": [
    "ans1 = s[s == 1].sum()\n",
    "print('Сумма всех \"вторников\"', ans1)"
   ]
  },
  {
   "cell_type": "markdown",
   "metadata": {},
   "source": [
    "**6)** Для каждого месяца найти среднее значение"
   ]
  },
  {
   "cell_type": "code",
   "execution_count": 90,
   "metadata": {},
   "outputs": [
    {
     "name": "stdout",
     "output_type": "stream",
     "text": [
      "Средние значения по месяцам:\n",
      " 2019-01-31    0.550672\n",
      "2019-02-28    0.455852\n",
      "2019-03-31    0.627650\n",
      "2019-04-30    0.532700\n",
      "2019-05-31    0.436478\n",
      "2019-06-30    0.504827\n",
      "2019-07-31    0.397248\n",
      "2019-08-31    0.501622\n",
      "2019-09-30    0.491366\n",
      "2019-10-31    0.510800\n",
      "2019-11-30    0.514859\n",
      "2019-12-31    0.413501\n",
      "Freq: M, dtype: float64\n"
     ]
    }
   ],
   "source": [
    "ans2 = s.resample('M').mean()\n",
    "print('Средние значения по месяцам:\\n', ans2)"
   ]
  },
  {
   "cell_type": "markdown",
   "metadata": {},
   "source": [
    "**7)** Преобразовать объект Series в DataFrame заданной формы (shape)"
   ]
  },
  {
   "cell_type": "code",
   "execution_count": 91,
   "metadata": {},
   "outputs": [
    {
     "name": "stdout",
     "output_type": "stream",
     "text": [
      "   0  1  2  3  4\n",
      "0  7  6  4  8  6\n",
      "1  8  5  9  8  9\n",
      "2  3  3  5  6  6\n",
      "3  4  8  8  5  2\n",
      "4  9  1  7  5  9\n",
      "5  6  5  6  6  3\n",
      "6  9  5  4  4  8\n"
     ]
    }
   ],
   "source": [
    "s = pd.Series(np.random.randint(low=1, high=10, size=[35]))\n",
    "r = (7, 5)\n",
    "df = pd.DataFrame(s.values.reshape(r))\n",
    " \n",
    "print(df)"
   ]
  },
  {
   "cell_type": "markdown",
   "metadata": {},
   "source": [
    "**8)** Найти индексы объекта Series кратные 3"
   ]
  },
  {
   "cell_type": "code",
   "execution_count": 92,
   "metadata": {},
   "outputs": [
    {
     "name": "stdout",
     "output_type": "stream",
     "text": [
      "Int64Index([2, 3, 4, 6], dtype='int64')\n"
     ]
    }
   ],
   "source": [
    "s = pd.Series(np.random.randint(low=1, high=10, size=[7]))\n",
    " \n",
    "ans = s[s % 3 == 0].index\n",
    "print(ans)"
   ]
  },
  {
   "cell_type": "markdown",
   "metadata": {},
   "source": [
    "**9)** Получить данные по индексам объекта Series"
   ]
  },
  {
   "cell_type": "code",
   "execution_count": 93,
   "metadata": {},
   "outputs": [
    {
     "name": "stdout",
     "output_type": "stream",
     "text": [
      "0     a\n",
      "4     e\n",
      "8     i\n",
      "14    o\n",
      "20    u\n",
      "10    k\n",
      "dtype: object\n"
     ]
    }
   ],
   "source": [
    "s = pd.Series(list('abcdefghijklmnopqrstuvwxyz'))\n",
    "p = [0, 4, 8, 14, 20, 10]\n",
    "\n",
    "ans1 = s[p]\n",
    "print(ans1)"
   ]
  },
  {
   "cell_type": "markdown",
   "metadata": {},
   "source": [
    "**10)** Объединить два объекта Series вертикально и горизонтально"
   ]
  },
  {
   "cell_type": "code",
   "execution_count": 94,
   "metadata": {},
   "outputs": [
    {
     "name": "stdout",
     "output_type": "stream",
     "text": [
      "0    0\n",
      "1    1\n",
      "2    2\n",
      "3    3\n",
      "4    4\n",
      "0    a\n",
      "1    b\n",
      "2    c\n",
      "3    d\n",
      "4    e\n",
      "dtype: object\n",
      "\n",
      "   0  1\n",
      "0  0  a\n",
      "1  1  b\n",
      "2  2  c\n",
      "3  3  d\n",
      "4  4  e\n"
     ]
    }
   ],
   "source": [
    "s1 = pd.Series(range(5))\n",
    "s2 = pd.Series(list('abcde'))\n",
    " \n",
    "ans_vertical = s1.append(s2)\n",
    "ans_horizontal = pd.concat([s1, s2], axis=1)\n",
    " \n",
    "print(ans_vertical)\n",
    "print()\n",
    "print(ans_horizontal)"
   ]
  },
  {
   "cell_type": "markdown",
   "metadata": {},
   "source": [
    "**11)** Получить индексы объекта Series A, данные которых содержатся в объетке Series B"
   ]
  },
  {
   "cell_type": "code",
   "execution_count": 95,
   "metadata": {},
   "outputs": [
    {
     "name": "stdout",
     "output_type": "stream",
     "text": [
      "[3 0 6 2]\n"
     ]
    }
   ],
   "source": [
    "s1 = pd.Series([5, 3, 2, 1, 4, 11, 13, 8, 7])\n",
    "s2 = pd.Series([1, 5, 13, 2])\n",
    " \n",
    "ans1 = np.asarray([np.where(i == s1)[0].tolist()[0] for i in s2])\n",
    "print(ans1)"
   ]
  },
  {
   "cell_type": "markdown",
   "metadata": {},
   "source": [
    "**12)** Получить объект Series B, котоырй содержит элементы без повторений объекта A"
   ]
  },
  {
   "cell_type": "code",
   "execution_count": 96,
   "metadata": {},
   "outputs": [
    {
     "name": "stdout",
     "output_type": "stream",
     "text": [
      "0    4\n",
      "1    2\n",
      "2    5\n",
      "3    6\n",
      "4    9\n",
      "5    1\n",
      "dtype: int32\n"
     ]
    }
   ],
   "source": [
    "s = pd.Series(np.random.randint(low=1, high=10, size=[10]))\n",
    "ans = pd.Series(s.unique())\n",
    "print(ans)"
   ]
  },
  {
   "cell_type": "markdown",
   "metadata": {},
   "source": [
    "**13)** Преобразовать каждый символ объекта Series в верхний регистр"
   ]
  },
  {
   "cell_type": "code",
   "execution_count": 97,
   "metadata": {},
   "outputs": [
    {
     "name": "stdout",
     "output_type": "stream",
     "text": [
      "0           LIFE\n",
      "1             IS\n",
      "2    INTERESTING\n",
      "dtype: object\n"
     ]
    }
   ],
   "source": [
    "s = pd.Series(['life', 'is', 'interesting'])\n",
    "print(s.str.upper())"
   ]
  },
  {
   "cell_type": "markdown",
   "metadata": {},
   "source": [
    "**14)** преобразовать данных Series в строку???????????"
   ]
  },
  {
   "cell_type": "code",
   "execution_count": 98,
   "metadata": {},
   "outputs": [
    {
     "name": "stdout",
     "output_type": "stream",
     "text": [
      "0           Life\n",
      "1             Is\n",
      "2    Interesting\n",
      "dtype: object\n"
     ]
    }
   ],
   "source": [
    "s = pd.Series(str(i) for i in s)\n",
    "\n",
    "ans2 = pd.Series(i.title() for i in s)\n",
    "print(ans2)"
   ]
  },
  {
   "cell_type": "markdown",
   "metadata": {},
   "source": [
    "**15)** Рассчитать количество символов в объекте Series"
   ]
  },
  {
   "cell_type": "code",
   "execution_count": 99,
   "metadata": {},
   "outputs": [
    {
     "name": "stdout",
     "output_type": "stream",
     "text": [
      "[3 3 5 4 4]\n"
     ]
    }
   ],
   "source": [
    "s = pd.Series(['one', 'two', 'three', 'four', 'five'])\n",
    "\n",
    "ans2 = np.asarray([len(i) for i in s])\n",
    "print(ans2)"
   ]
  },
  {
   "cell_type": "markdown",
   "metadata": {},
   "source": [
    "**16)** преобразовать в строковый тип???????????"
   ]
  },
  {
   "cell_type": "code",
   "execution_count": 100,
   "metadata": {},
   "outputs": [
    {
     "name": "stdout",
     "output_type": "stream",
     "text": [
      "0      one\n",
      "1      two\n",
      "2    three\n",
      "3     four\n",
      "4     five\n",
      "dtype: object\n"
     ]
    }
   ],
   "source": [
    "s = pd.Series(str(i) for i in s)\n",
    "print(s)"
   ]
  },
  {
   "cell_type": "markdown",
   "metadata": {},
   "source": [
    "**17)** Найти разность между объектом Series и смещением объекта Series на n"
   ]
  },
  {
   "cell_type": "code",
   "execution_count": 101,
   "metadata": {},
   "outputs": [
    {
     "name": "stdout",
     "output_type": "stream",
     "text": [
      "0    NaN\n",
      "1    4.0\n",
      "2    2.0\n",
      "3    1.0\n",
      "4    4.0\n",
      "5    3.0\n",
      "6    2.0\n",
      "dtype: float64\n"
     ]
    }
   ],
   "source": [
    "n = 1\n",
    "s = pd.Series([1, 5, 7, 8, 12, 15, 17])\n",
    "ans = s.diff(periods=n)\n",
    " \n",
    "print(ans)"
   ]
  },
  {
   "cell_type": "markdown",
   "metadata": {},
   "source": [
    "**18)** Преобразовать разыне форматы строк объекта Series в дату"
   ]
  },
  {
   "cell_type": "code",
   "execution_count": 102,
   "metadata": {},
   "outputs": [
    {
     "name": "stdout",
     "output_type": "stream",
     "text": [
      "0   2017-01-01\n",
      "1   2015-02-02\n",
      "2   2019-01-15\n",
      "dtype: datetime64[ns]\n"
     ]
    }
   ],
   "source": [
    "s = pd.Series(['2017/01/01', '2015-02-02', '15 Jan 2019'])\n",
    "\n",
    "ans = pd.to_datetime(s)\n",
    " \n",
    "print(ans)"
   ]
  },
  {
   "cell_type": "markdown",
   "metadata": {},
   "source": [
    "**19)** Поскольку работа с датой часто встречается в работе, то см. еще один пример. все данные должны иметь одинаковый формат (часто бывает выгрузка из SQL). преобразовать в дату\n",
    "%y - Год без века как десятичное число с нулями.\n",
    "%Y - Год со столетием в виде десятичного числа."
   ]
  },
  {
   "cell_type": "code",
   "execution_count": 103,
   "metadata": {},
   "outputs": [
    {
     "name": "stdout",
     "output_type": "stream",
     "text": [
      "0   2019-02-14\n",
      "1   2019-01-22\n",
      "2   2019-03-01\n",
      "dtype: datetime64[ns]\n"
     ]
    }
   ],
   "source": [
    "s = pd.Series(['14.02.2019', '22.01.2019', '01.03.2019'])\n",
    "ans = pd.to_datetime(s, format='%d.%m.%Y')\n",
    "print(ans)"
   ]
  },
  {
   "cell_type": "markdown",
   "metadata": {},
   "source": [
    "**20)** Получить год, месяц, день, день недели, номер дня в году от объекта Series (string)"
   ]
  },
  {
   "cell_type": "code",
   "execution_count": 104,
   "metadata": {},
   "outputs": [
    {
     "name": "stdout",
     "output_type": "stream",
     "text": [
      "0    01 Jan 2018\n",
      "1     02-02-2011\n",
      "2       20120303\n",
      "3     2013/04/04\n",
      "4     2018-12-31\n",
      "dtype: object\n"
     ]
    }
   ],
   "source": [
    "s = pd.Series(['01 Jan 2018', '02-02-2011', '20120303', '2013/04/04', '2018-12-31'])\n",
    "print(s)"
   ]
  },
  {
   "cell_type": "markdown",
   "metadata": {},
   "source": [
    "**21)** распарсить в дату и время"
   ]
  },
  {
   "cell_type": "code",
   "execution_count": 105,
   "metadata": {},
   "outputs": [
    {
     "name": "stdout",
     "output_type": "stream",
     "text": [
      "0   2018-01-01\n",
      "1   2011-02-02\n",
      "2   2012-03-03\n",
      "3   2013-04-04\n",
      "4   2018-12-31\n",
      "dtype: datetime64[ns]\n"
     ]
    }
   ],
   "source": [
    "s_ts = s.map(lambda x: parse(x, yearfirst=True))\n",
    "print(s_ts)"
   ]
  },
  {
   "cell_type": "markdown",
   "metadata": {},
   "source": [
    "**22)** получить года"
   ]
  },
  {
   "cell_type": "code",
   "execution_count": 106,
   "metadata": {},
   "outputs": [
    {
     "name": "stdout",
     "output_type": "stream",
     "text": [
      "0    2018\n",
      "1    2011\n",
      "2    2012\n",
      "3    2013\n",
      "4    2018\n",
      "dtype: int64\n"
     ]
    }
   ],
   "source": [
    "print(s_ts.dt.year)"
   ]
  },
  {
   "cell_type": "markdown",
   "metadata": {},
   "source": [
    "**23)** получить месяца"
   ]
  },
  {
   "cell_type": "code",
   "execution_count": 107,
   "metadata": {},
   "outputs": [
    {
     "name": "stdout",
     "output_type": "stream",
     "text": [
      "0     1\n",
      "1     2\n",
      "2     3\n",
      "3     4\n",
      "4    12\n",
      "dtype: int64\n"
     ]
    }
   ],
   "source": [
    "print(s_ts.dt.month)"
   ]
  },
  {
   "cell_type": "markdown",
   "metadata": {},
   "source": [
    "**24)** получить дни"
   ]
  },
  {
   "cell_type": "code",
   "execution_count": 108,
   "metadata": {},
   "outputs": [
    {
     "name": "stdout",
     "output_type": "stream",
     "text": [
      "0     1\n",
      "1     2\n",
      "2     3\n",
      "3     4\n",
      "4    31\n",
      "dtype: int64\n"
     ]
    }
   ],
   "source": [
    "print(s_ts.dt.day)"
   ]
  },
  {
   "cell_type": "markdown",
   "metadata": {},
   "source": [
    "**25)** получить номер недели"
   ]
  },
  {
   "cell_type": "code",
   "execution_count": 109,
   "metadata": {},
   "outputs": [
    {
     "name": "stdout",
     "output_type": "stream",
     "text": [
      "0     1\n",
      "1     5\n",
      "2     9\n",
      "3    14\n",
      "4     1\n",
      "dtype: int64\n"
     ]
    }
   ],
   "source": [
    "print(s_ts.dt.weekofyear)"
   ]
  },
  {
   "cell_type": "markdown",
   "metadata": {},
   "source": [
    "**26)** получить номер дня в году"
   ]
  },
  {
   "cell_type": "code",
   "execution_count": 110,
   "metadata": {},
   "outputs": [
    {
     "name": "stdout",
     "output_type": "stream",
     "text": [
      "0      1\n",
      "1     33\n",
      "2     63\n",
      "3     94\n",
      "4    365\n",
      "dtype: int64\n"
     ]
    }
   ],
   "source": [
    "print(s_ts.dt.dayofyear)"
   ]
  },
  {
   "cell_type": "markdown",
   "metadata": {},
   "source": [
    "**27)** Отобрать элементы объекта Series, кторые содержат не менее двух гласных"
   ]
  },
  {
   "cell_type": "code",
   "execution_count": 111,
   "metadata": {},
   "outputs": [
    {
     "name": "stdout",
     "output_type": "stream",
     "text": [
      "0      Яблоко\n",
      "1      Orange\n",
      "4    Апельсин\n",
      "6    Reliance\n",
      "dtype: object\n"
     ]
    }
   ],
   "source": [
    "s = pd.Series(['Яблоко', 'Orange', 'Plan', 'Python', 'Апельсин', 'Стол', 'Reliance'])\n",
    "mask = s.map(lambda x: sum([Counter(x.lower()).get(i, 0) for i in list('aeiouаоиеёэыуюя')]) >= 2)\n",
    "ans = s[mask]\n",
    "print(ans)"
   ]
  },
  {
   "cell_type": "markdown",
   "metadata": {},
   "source": [
    "**28)** Отобрать e-маилы из объекта Series (можно юзать регулярки)"
   ]
  },
  {
   "cell_type": "code",
   "execution_count": 112,
   "metadata": {},
   "outputs": [
    {
     "name": "stdout",
     "output_type": "stream",
     "text": [
      "1    test@mail.ru\n",
      "dtype: object\n"
     ]
    }
   ],
   "source": [
    "emails = pd.Series(['test text @test.com', 'test@mail.ru', 'test.2ru', 'test@pp'])\n",
    "pattern = '[A-Za-z0-9._%+-]+@[A-Za-z0-9.-]+\\\\.[A-Za-z]{2,4}'\n",
    "mask = emails.map(lambda x: bool(re.match(pattern, x)))\n",
    "ans = emails[mask]\n",
    "print(ans)"
   ]
  },
  {
   "cell_type": "markdown",
   "metadata": {},
   "source": [
    "**29)** Получить среднее значение каждого уникального объекта Series s1 через \"маску\" другого объекта Series s2"
   ]
  },
  {
   "cell_type": "code",
   "execution_count": 113,
   "metadata": {},
   "outputs": [
    {
     "name": "stdout",
     "output_type": "stream",
     "text": [
      "bird     5.000000\n",
      "cat      6.500000\n",
      "dog      5.500000\n",
      "horse    5.333333\n",
      "dtype: float64\n"
     ]
    }
   ],
   "source": [
    "n = 10\n",
    "s1 = pd.Series(np.random.choice(['dog', 'cat', 'horse', 'bird'], n))\n",
    "s2 = pd.Series(np.linspace(1,n,n))\n",
    "ans = s2.groupby(s1).mean()\n",
    "print(ans)"
   ]
  }
 ],
 "metadata": {
  "kernelspec": {
   "display_name": "Python 3",
   "language": "python",
   "name": "python3"
  },
  "language_info": {
   "codemirror_mode": {
    "name": "ipython",
    "version": 3
   },
   "file_extension": ".py",
   "mimetype": "text/x-python",
   "name": "python",
   "nbconvert_exporter": "python",
   "pygments_lexer": "ipython3",
   "version": "3.8.3"
  }
 },
 "nbformat": 4,
 "nbformat_minor": 4
}
