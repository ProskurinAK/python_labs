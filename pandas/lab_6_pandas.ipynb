{
 "cells": [
  {
   "cell_type": "markdown",
   "metadata": {},
   "source": [
    "                                                 Московский Авиационный Институт  \n",
    "                                          (Национальный Исследовательский Университет)\n",
    "                                          \n",
    "Кафедра: 806 «Вычислительная математика и программирование»  \n",
    "Институт: «Информационные технологии и прикладная математика»  \n",
    "Дисциплина: «Разработка ПО для высокопроизводительных систем»  \n",
    "\n",
    "<br/><br/>\n",
    "<br/><br/>\n",
    "<br/><br/>\n",
    "<br/><br/>\n",
    "\n",
    "                                                 Лабораторная работа №6.  \n",
    "                                                          Тема:  \n",
    "                                                        «pandas»\n",
    "                                                         \n",
    "                                                         \n",
    "                                                                                                       Группа: М8О – 103М-20\n",
    "                                                                                        Студент: Проскурин Андрей Кириллович\n",
    "                                                                                Преподаватель: Поповкин Александр Викторович\n",
    "<br/><br/>\n",
    "<br/><br/>\n",
    "<br/><br/>\n",
    "<br/><br/>\n",
    "\n",
    "                                                           Москва  \n",
    "                                                            2020"
   ]
  },
  {
   "cell_type": "code",
   "execution_count": 1,
   "metadata": {},
   "outputs": [],
   "source": [
    "import pandas as pd\n",
    "from pandas import Series, DataFrame\n",
    "import numpy as np"
   ]
  },
  {
   "cell_type": "markdown",
   "metadata": {},
   "source": [
    "**1)**  Найти евклидово расстоняие между двумя объектами Series"
   ]
  },
  {
   "cell_type": "code",
   "execution_count": 2,
   "metadata": {},
   "outputs": [
    {
     "name": "stdout",
     "output_type": "stream",
     "text": [
      "0    3\n",
      "1    2\n",
      "2    9\n",
      "dtype: int32\n",
      "0    3\n",
      "1    9\n",
      "2    1\n",
      "dtype: int32\n",
      "10.63014581273465\n"
     ]
    }
   ],
   "source": [
    "n = 3\n",
    " \n",
    "s1 = pd.Series(np.random.randint(low=1, high=10, size=[n]))\n",
    "s2 = pd.Series(np.random.randint(low=1, high=10, size=[n]))\n",
    " \n",
    "ans = np.linalg.norm(s1-s2)\n",
    "ans2 = sum((s1-s2)**2)**0.5\n",
    "print(s1)\n",
    "print(s2)\n",
    "print(ans)"
   ]
  },
  {
   "cell_type": "markdown",
   "metadata": {},
   "source": [
    "**2)**  Найти индексы локальных максимумов в объекте Series\n",
    "\n",
    "Функция diff() возвращает n-ю разность элементов массива, которая так же может быть вычислена вдоль указанной оси (осям).\n",
    "Первая разность вычисляется по формуле ```res[n] = a[n] - a[n-1]``` вдоль указанной оси массива. Следующие разности вычисляются рекурсивно.  \n",
    "\n",
    "Функция sign() является указателем на знак числа.\n",
    "\n",
    "Функция where() возвращает элементы, которые могут выбираться из двух массивов в зависимости от условия."
   ]
  },
  {
   "cell_type": "code",
   "execution_count": 6,
   "metadata": {},
   "outputs": [
    {
     "name": "stdout",
     "output_type": "stream",
     "text": [
      "[3 6 9]\n"
     ]
    }
   ],
   "source": [
    "s = pd.Series([1, 5, 7, 11, 8, 4, 12, 5, 8, 16, 8])\n",
    "dd = np.diff(np.sign(np.diff(s)))\n",
    "ans = np.where(dd == -2)[0] + 1\n",
    "print(ans)"
   ]
  },
  {
   "cell_type": "markdown",
   "metadata": {},
   "source": [
    "**3)**  Заменить пробелы наименее часто встречающимся символов  \n",
    "\n",
    "**Syntax: Series.value_counts**  \n",
    "```Series.value_counts(normalize=False, sort=True, ascending=False, bins=None, dropna=True)```  \n",
    "\n",
    "Возврощает серию, содержащую количество уникальных значений. Результирующий объект будет в порядке убывания, так что первый элемент будет наиболее часто встречающимся элементом. По умолчанию исключает значения NA."
   ]
  },
  {
   "cell_type": "code",
   "execution_count": 7,
   "metadata": {},
   "outputs": [
    {
     "data": {
      "text/plain": [
       "'bnbnbernkekbndare'"
      ]
     },
     "execution_count": 7,
     "metadata": {},
     "output_type": "execute_result"
    }
   ],
   "source": [
    "str_test = 'bnb ber kekb dare'\n",
    " \n",
    "s = pd.Series(list(str_test))\n",
    "freq = s.value_counts()\n",
    "least_freq = freq.dropna().index[-1]\n",
    "''.join(s.replace(' ', least_freq))"
   ]
  },
  {
   "cell_type": "markdown",
   "metadata": {},
   "source": [
    "**4)**  Создать объект Series, который содержит в индексах даты выходных дней субботы, а в значениях случайные числа от 1 до 10"
   ]
  },
  {
   "cell_type": "code",
   "execution_count": 8,
   "metadata": {},
   "outputs": [
    {
     "name": "stdout",
     "output_type": "stream",
     "text": [
      "2018-01-06    7\n",
      "2018-01-13    1\n",
      "2018-01-20    1\n",
      "2018-01-27    7\n",
      "2018-02-03    9\n",
      "2018-02-10    2\n",
      "2018-02-17    6\n",
      "2018-02-24    8\n",
      "2018-03-03    1\n",
      "2018-03-10    4\n",
      "Freq: W-SAT, dtype: int32\n"
     ]
    }
   ],
   "source": [
    "s = pd.Series(np.random.randint(low=1,high=10,size=[10]), pd.date_range('2018-01-01', periods=10, freq='W-SAT'))\n",
    "print(s)"
   ]
  },
  {
   "cell_type": "markdown",
   "metadata": {},
   "source": [
    "**5)**  Заполнить пропущенные даты, значением выше (заполненной даты)"
   ]
  },
  {
   "cell_type": "code",
   "execution_count": 10,
   "metadata": {},
   "outputs": [
    {
     "name": "stdout",
     "output_type": "stream",
     "text": [
      "2018-01-01    2.0\n",
      "2018-01-02    2.0\n",
      "2018-01-03    5.0\n",
      "2018-01-04    5.0\n",
      "2018-01-05    5.0\n",
      "2018-01-06    8.0\n",
      "2018-01-07    8.0\n",
      "2018-01-08    NaN\n",
      "Freq: D, dtype: float64\n"
     ]
    }
   ],
   "source": [
    "s = pd.Series([2, 5, 8, np.nan], index=pd.to_datetime(['2018-01-01', '2018-01-03', '2018-01-06', '2018-01-08']))\n",
    "\n",
    "ans = s.resample('D').ffill()\n",
    "\n",
    "print(ans)"
   ]
  },
  {
   "cell_type": "markdown",
   "metadata": {},
   "source": [
    "**6)**  Вычислить автокорреляцию объекта Series  \n",
    "\n",
    "**Syntax: Series.autocorr**  \n",
    "```Series.autocorr(lag=1)```  \n",
    "\n",
    "Вычислите автокорреляцию лаг-N.\n",
    "Этот метод вычисляет корреляцию Пирсона между Серией и ее смещенным «я».  \n",
    "\n",
    "**lag** - int, по умолчанию 1. Количество задержек, применяемых перед выполнением автокорреляции.  \n",
    "\n",
    "**Возврощает**  \n",
    "**результат** - float. Корреляция Пирсона между self и self.shift(lag)."
   ]
  },
  {
   "cell_type": "code",
   "execution_count": 6,
   "metadata": {},
   "outputs": [
    {
     "name": "stdout",
     "output_type": "stream",
     "text": [
      "[1.0, 0.79, 0.8, 0.82, 0.74, 0.8, 0.63, 0.76, 0.7, 0.61, 0.66, 0.71, 0.67, 0.55, 0.16, 0.41, 0.88, 0.14, 1.0, nan]\n"
     ]
    }
   ],
   "source": [
    "n = 20\n",
    "\n",
    "s = pd.Series(np.arange(n))\n",
    "s = s + np.random.normal(1, 3, n)\n",
    "\n",
    "autocorr = [s.autocorr(lag=i).round(2) for i in range(n)]\n",
    "\n",
    "print(autocorr)"
   ]
  }
 ],
 "metadata": {
  "kernelspec": {
   "display_name": "Python 3",
   "language": "python",
   "name": "python3"
  },
  "language_info": {
   "codemirror_mode": {
    "name": "ipython",
    "version": 3
   },
   "file_extension": ".py",
   "mimetype": "text/x-python",
   "name": "python",
   "nbconvert_exporter": "python",
   "pygments_lexer": "ipython3",
   "version": "3.8.3"
  }
 },
 "nbformat": 4,
 "nbformat_minor": 4
}
