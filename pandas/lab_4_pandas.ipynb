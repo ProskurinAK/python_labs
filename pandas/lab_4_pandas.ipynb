{
 "cells": [
  {
   "cell_type": "markdown",
   "metadata": {},
   "source": [
    "                                                 Московский Авиационный Институт  \n",
    "                                          (Национальный Исследовательский Университет)\n",
    "                                          \n",
    "Кафедра: 806 «Вычислительная математика и программирование»  \n",
    "Институт: «Информационные технологии и прикладная математика»  \n",
    "Дисциплина: «Разработка ПО для высокопроизводительных систем»  \n",
    "\n",
    "<br/><br/>\n",
    "<br/><br/>\n",
    "<br/><br/>\n",
    "<br/><br/>\n",
    "\n",
    "                                                 Лабораторная работа №4.  \n",
    "                                                          Тема:  \n",
    "                                                        «pandas»\n",
    "                                                         \n",
    "                                                         \n",
    "                                                                                                       Группа: М8О – 103М-20\n",
    "                                                                                        Студент: Проскурин Андрей Кириллович\n",
    "                                                                                Преподаватель: Поповкин Александр Викторович\n",
    "<br/><br/>\n",
    "<br/><br/>\n",
    "<br/><br/>\n",
    "<br/><br/>\n",
    "\n",
    "                                                           Москва  \n",
    "                                                            2020"
   ]
  },
  {
   "cell_type": "markdown",
   "metadata": {},
   "source": [
    "**1)** Импортировать модули sys numpy pandas"
   ]
  },
  {
   "cell_type": "code",
   "execution_count": 4,
   "metadata": {},
   "outputs": [],
   "source": [
    "import sys\n",
    "import numpy as np\n",
    "import pandas as pd\n",
    "from pandas import Series, DataFrame"
   ]
  },
  {
   "cell_type": "markdown",
   "metadata": {},
   "source": [
    "**2)** Создать объект pandas Series из листа, объекта NumPy, и словаря"
   ]
  },
  {
   "cell_type": "code",
   "execution_count": 84,
   "metadata": {},
   "outputs": [
    {
     "name": "stdout",
     "output_type": "stream",
     "text": [
      "Alex      22\n",
      "Andrew    21\n",
      "Dima      77\n",
      "dtype: int64\n"
     ]
    }
   ],
   "source": [
    "list_1 = [1, 2, 3]\n",
    "obj_1 = Series(list_1)\n",
    "# print(obj_1)\n",
    "\n",
    "list_2 = np.arange(0, 10)\n",
    "obj_2 = Series(list_2)\n",
    "# print(obj_2)\n",
    "\n",
    "list_3 = {'Alex' : 22, 'Andrew' : 21, 'Dima' : 77}\n",
    "obj_3 = Series(list_3)\n",
    "print(obj_3)"
   ]
  },
  {
   "cell_type": "markdown",
   "metadata": {},
   "source": [
    "**3)** Преобразовать объект Series в DataFrame"
   ]
  },
  {
   "cell_type": "code",
   "execution_count": 85,
   "metadata": {},
   "outputs": [
    {
     "name": "stdout",
     "output_type": "stream",
     "text": [
      "         0\n",
      "Alex    22\n",
      "Andrew  21\n",
      "Dima    77\n"
     ]
    }
   ],
   "source": [
    "obj = Series({'Alex' : 22, 'Andrew' : 21, 'Dima' : 77})\n",
    "data = DataFrame(obj)\n",
    "print(data)"
   ]
  },
  {
   "cell_type": "markdown",
   "metadata": {},
   "source": [
    "**4)** создать объект Series"
   ]
  },
  {
   "cell_type": "code",
   "execution_count": 86,
   "metadata": {},
   "outputs": [
    {
     "name": "stdout",
     "output_type": "stream",
     "text": [
      "0    3\n",
      "1    2\n",
      "2    2\n",
      "dtype: int64\n"
     ]
    }
   ],
   "source": [
    "obj = Series([3, 2, 2])\n",
    "print(obj)"
   ]
  },
  {
   "cell_type": "markdown",
   "metadata": {},
   "source": [
    "**5)** преобразовать в DataFrame"
   ]
  },
  {
   "cell_type": "code",
   "execution_count": 87,
   "metadata": {},
   "outputs": [
    {
     "name": "stdout",
     "output_type": "stream",
     "text": [
      "   0\n",
      "0  1\n",
      "1  2\n",
      "2  3\n"
     ]
    }
   ],
   "source": [
    "obj = Series([1, 2, 3])\n",
    "data = DataFrame(obj)\n",
    "print(data)"
   ]
  },
  {
   "cell_type": "markdown",
   "metadata": {},
   "source": [
    "**6)** объединить несколько объектов Series в Dataframe"
   ]
  },
  {
   "cell_type": "code",
   "execution_count": 88,
   "metadata": {},
   "outputs": [
    {
     "name": "stdout",
     "output_type": "stream",
     "text": [
      "   0  1  2\n",
      "0  1  4  7\n",
      "1  2  5  8\n",
      "2  3  6  9\n"
     ]
    }
   ],
   "source": [
    "obj_1 = Series([1, 2, 3])\n",
    "obj_2 = Series([4, 5, 6])\n",
    "obj_3 = Series([7, 8, 9])\n",
    "data = pd.concat([obj_1, obj_2, obj_3], axis = 1)\n",
    "print(data)"
   ]
  },
  {
   "cell_type": "markdown",
   "metadata": {},
   "source": [
    "**7)** Присвоить имя индексу объекта Series"
   ]
  },
  {
   "cell_type": "code",
   "execution_count": 89,
   "metadata": {},
   "outputs": [
    {
     "name": "stdout",
     "output_type": "stream",
     "text": [
      "0    3\n",
      "1    2\n",
      "2    2\n",
      "Name: NAME, dtype: int64\n"
     ]
    }
   ],
   "source": [
    "obj = Series([3, 2, 2])\n",
    "obj.name = 'NAME'\n",
    "print(obj)"
   ]
  },
  {
   "cell_type": "markdown",
   "metadata": {},
   "source": [
    "**8)** Получить элементы объекта Series A, которых нет в объекте Series B"
   ]
  },
  {
   "cell_type": "code",
   "execution_count": 90,
   "metadata": {},
   "outputs": [
    {
     "name": "stdout",
     "output_type": "stream",
     "text": [
      "0    5\n",
      "1    6\n",
      "dtype: int64\n"
     ]
    }
   ],
   "source": [
    "obj_1 = Series([5, 6, 7])\n",
    "obj_2 = Series([7, 8, 9])\n",
    "print(obj_1[~(obj_1.isin(obj_2))])"
   ]
  },
  {
   "cell_type": "markdown",
   "metadata": {},
   "source": [
    "**9)** возвратить вместе с индексами"
   ]
  },
  {
   "cell_type": "code",
   "execution_count": 7,
   "metadata": {},
   "outputs": [
    {
     "name": "stdout",
     "output_type": "stream",
     "text": [
      "0    5\n",
      "1    6\n",
      "dtype: int64\n"
     ]
    }
   ],
   "source": [
    "obj_1 = Series([5, 6, 7])\n",
    "obj_2 = Series([7, 8, 9])\n",
    "print(obj_1[~(obj_1.isin(obj_2))])"
   ]
  },
  {
   "cell_type": "markdown",
   "metadata": {},
   "source": [
    "**10)** возвратить значения"
   ]
  },
  {
   "cell_type": "code",
   "execution_count": 6,
   "metadata": {},
   "outputs": [
    {
     "name": "stdout",
     "output_type": "stream",
     "text": [
      "[5 6]\n"
     ]
    }
   ],
   "source": [
    "obj_1 = Series([5, 6, 7])\n",
    "obj_2 = Series([7, 8, 9])\n",
    "print(obj_1[~(obj_1.isin(obj_2))].values)\n"
   ]
  },
  {
   "cell_type": "markdown",
   "metadata": {},
   "source": [
    "**11)** Получить не пересекающиеся элементы в двух объектах Series"
   ]
  },
  {
   "cell_type": "code",
   "execution_count": 93,
   "metadata": {},
   "outputs": [
    {
     "name": "stdout",
     "output_type": "stream",
     "text": [
      "0    1\n",
      "1    2\n",
      "2    3\n",
      "2    6\n",
      "3    7\n",
      "4    8\n",
      "dtype: int64\n"
     ]
    }
   ],
   "source": [
    "obj_1 = Series([1, 2, 3, 4, 5])\n",
    "obj_2 = Series([4, 5, 6, 7, 8])\n",
    "\n",
    "obj_1_unique = obj_1[~(obj_1.isin(obj_2))]\n",
    "obj_2_unique = obj_2[~(obj_2.isin(obj_1))]\n",
    "\n",
    "obj_result = pd.concat([obj_1_unique, obj_2_unique])\n",
    "print(obj_result)"
   ]
  },
  {
   "cell_type": "markdown",
   "metadata": {},
   "source": [
    "**12)** возвратить вместе с индексами"
   ]
  },
  {
   "cell_type": "code",
   "execution_count": 94,
   "metadata": {},
   "outputs": [
    {
     "name": "stdout",
     "output_type": "stream",
     "text": [
      "0    1\n",
      "1    2\n",
      "2    3\n",
      "2    6\n",
      "3    7\n",
      "4    8\n",
      "dtype: int64\n"
     ]
    }
   ],
   "source": [
    "print(obj_result)"
   ]
  },
  {
   "cell_type": "markdown",
   "metadata": {},
   "source": [
    "**13)** получить объединенный Series без повтороений"
   ]
  },
  {
   "cell_type": "code",
   "execution_count": 95,
   "metadata": {},
   "outputs": [
    {
     "name": "stdout",
     "output_type": "stream",
     "text": [
      "0    1\n",
      "1    2\n",
      "2    3\n",
      "3    4\n",
      "4    5\n",
      "5    6\n",
      "6    7\n",
      "7    8\n",
      "dtype: int64\n"
     ]
    }
   ],
   "source": [
    "obj_1 = Series([1, 2, 3, 4, 5])\n",
    "obj_2 = Series([4, 5, 6, 7, 8])\n",
    "\n",
    "obj_result = Series(np.union1d(obj_1, obj_2))\n",
    "print(obj_result)"
   ]
  },
  {
   "cell_type": "markdown",
   "metadata": {},
   "source": [
    "**14)** получить пересекающиеся данные"
   ]
  },
  {
   "cell_type": "code",
   "execution_count": 96,
   "metadata": {},
   "outputs": [
    {
     "name": "stdout",
     "output_type": "stream",
     "text": [
      "0    4\n",
      "1    5\n",
      "dtype: int64\n"
     ]
    }
   ],
   "source": [
    "obj_result = Series(np.intersect1d(obj_1, obj_2))\n",
    "print(obj_result)"
   ]
  },
  {
   "cell_type": "markdown",
   "metadata": {},
   "source": [
    "**15)** отобрать все данные, кроме пересекающихся"
   ]
  },
  {
   "cell_type": "code",
   "execution_count": 97,
   "metadata": {},
   "outputs": [
    {
     "name": "stdout",
     "output_type": "stream",
     "text": [
      "0    1\n",
      "1    2\n",
      "2    3\n",
      "3    6\n",
      "4    7\n",
      "5    8\n",
      "dtype: int64\n"
     ]
    }
   ],
   "source": [
    "obj_result = Series(np.setxor1d(obj_1, obj_2))\n",
    "print(obj_result)"
   ]
  },
  {
   "cell_type": "markdown",
   "metadata": {},
   "source": [
    "**16)** возвратить значения"
   ]
  },
  {
   "cell_type": "code",
   "execution_count": 98,
   "metadata": {},
   "outputs": [
    {
     "name": "stdout",
     "output_type": "stream",
     "text": [
      "[1 2 3 6 7 8]\n"
     ]
    }
   ],
   "source": [
    "print(obj_result.values)"
   ]
  }
 ],
 "metadata": {
  "kernelspec": {
   "display_name": "Python 3",
   "language": "python",
   "name": "python3"
  },
  "language_info": {
   "codemirror_mode": {
    "name": "ipython",
    "version": 3
   },
   "file_extension": ".py",
   "mimetype": "text/x-python",
   "name": "python",
   "nbconvert_exporter": "python",
   "pygments_lexer": "ipython3",
   "version": "3.8.3"
  }
 },
 "nbformat": 4,
 "nbformat_minor": 4
}
